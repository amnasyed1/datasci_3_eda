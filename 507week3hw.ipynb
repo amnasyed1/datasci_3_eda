{
  "nbformat": 4,
  "nbformat_minor": 0,
  "metadata": {
    "colab": {
      "provenance": [],
      "authorship_tag": "ABX9TyPRJ4hvBNdQV4D4hSkkASVL",
      "include_colab_link": true
    },
    "kernelspec": {
      "name": "python3",
      "display_name": "Python 3"
    },
    "language_info": {
      "name": "python"
    }
  },
  "cells": [
    {
      "cell_type": "markdown",
      "metadata": {
        "id": "view-in-github",
        "colab_type": "text"
      },
      "source": [
        "<a href=\"https://colab.research.google.com/github/amnasyed1/datasci_3_eda/blob/main/507week3hw.ipynb\" target=\"_parent\"><img src=\"https://colab.research.google.com/assets/colab-badge.svg\" alt=\"Open In Colab\"/></a>"
      ]
    },
    {
      "cell_type": "markdown",
      "source": [
        "##Loading Packages"
      ],
      "metadata": {
        "id": "f5WAEV4BnYH0"
      }
    },
    {
      "cell_type": "code",
      "execution_count": 84,
      "metadata": {
        "id": "_pStwRYOnWE4"
      },
      "outputs": [],
      "source": [
        "import pandas as pd\n",
        "import numpy as np\n",
        "import matplotlib.pyplot as plt\n",
        "import seaborn as sns\n"
      ]
    },
    {
      "cell_type": "markdown",
      "source": [
        "## Loading dataset"
      ],
      "metadata": {
        "id": "V_dAhmL_nf_2"
      }
    },
    {
      "cell_type": "code",
      "source": [
        "df = pd.read_csv('https://raw.githubusercontent.com/amnasyed1/datasci_3_eda/main/datasets/dataset_asthma-2017.csv')\n",
        "df"
      ],
      "metadata": {
        "colab": {
          "base_uri": "https://localhost:8080/",
          "height": 424
        },
        "id": "PXUPJjVFnfqm",
        "outputId": "ea04916d-4c83-45b8-ebcd-db56341d203e"
      },
      "execution_count": 18,
      "outputs": [
        {
          "output_type": "execute_result",
          "data": {
            "text/plain": [
              "     Census_tract  ED_visits  ED_hosp  UC_visits  Asthma_use  Total_members\n",
              "0     42003010300          2        0          0           6             83\n",
              "1     42003020100         32       19          3         223           2114\n",
              "2     42003020300          0        0          0           2             48\n",
              "3     42003030500         11        3          3          61            422\n",
              "4     42003040200          2        1          1          18            138\n",
              "..            ...        ...      ...        ...         ...            ...\n",
              "393   42003980600          0        0          0           0              5\n",
              "394   42003980700          0        0          0           1              2\n",
              "395   42003981000          0        0          0           0              8\n",
              "396   42003981800          0        0          0           0             13\n",
              "397   42003982200          0        0          0           0             34\n",
              "\n",
              "[398 rows x 6 columns]"
            ],
            "text/html": [
              "\n",
              "  <div id=\"df-e7b559e1-4002-4fba-b77b-00d565215d0f\" class=\"colab-df-container\">\n",
              "    <div>\n",
              "<style scoped>\n",
              "    .dataframe tbody tr th:only-of-type {\n",
              "        vertical-align: middle;\n",
              "    }\n",
              "\n",
              "    .dataframe tbody tr th {\n",
              "        vertical-align: top;\n",
              "    }\n",
              "\n",
              "    .dataframe thead th {\n",
              "        text-align: right;\n",
              "    }\n",
              "</style>\n",
              "<table border=\"1\" class=\"dataframe\">\n",
              "  <thead>\n",
              "    <tr style=\"text-align: right;\">\n",
              "      <th></th>\n",
              "      <th>Census_tract</th>\n",
              "      <th>ED_visits</th>\n",
              "      <th>ED_hosp</th>\n",
              "      <th>UC_visits</th>\n",
              "      <th>Asthma_use</th>\n",
              "      <th>Total_members</th>\n",
              "    </tr>\n",
              "  </thead>\n",
              "  <tbody>\n",
              "    <tr>\n",
              "      <th>0</th>\n",
              "      <td>42003010300</td>\n",
              "      <td>2</td>\n",
              "      <td>0</td>\n",
              "      <td>0</td>\n",
              "      <td>6</td>\n",
              "      <td>83</td>\n",
              "    </tr>\n",
              "    <tr>\n",
              "      <th>1</th>\n",
              "      <td>42003020100</td>\n",
              "      <td>32</td>\n",
              "      <td>19</td>\n",
              "      <td>3</td>\n",
              "      <td>223</td>\n",
              "      <td>2114</td>\n",
              "    </tr>\n",
              "    <tr>\n",
              "      <th>2</th>\n",
              "      <td>42003020300</td>\n",
              "      <td>0</td>\n",
              "      <td>0</td>\n",
              "      <td>0</td>\n",
              "      <td>2</td>\n",
              "      <td>48</td>\n",
              "    </tr>\n",
              "    <tr>\n",
              "      <th>3</th>\n",
              "      <td>42003030500</td>\n",
              "      <td>11</td>\n",
              "      <td>3</td>\n",
              "      <td>3</td>\n",
              "      <td>61</td>\n",
              "      <td>422</td>\n",
              "    </tr>\n",
              "    <tr>\n",
              "      <th>4</th>\n",
              "      <td>42003040200</td>\n",
              "      <td>2</td>\n",
              "      <td>1</td>\n",
              "      <td>1</td>\n",
              "      <td>18</td>\n",
              "      <td>138</td>\n",
              "    </tr>\n",
              "    <tr>\n",
              "      <th>...</th>\n",
              "      <td>...</td>\n",
              "      <td>...</td>\n",
              "      <td>...</td>\n",
              "      <td>...</td>\n",
              "      <td>...</td>\n",
              "      <td>...</td>\n",
              "    </tr>\n",
              "    <tr>\n",
              "      <th>393</th>\n",
              "      <td>42003980600</td>\n",
              "      <td>0</td>\n",
              "      <td>0</td>\n",
              "      <td>0</td>\n",
              "      <td>0</td>\n",
              "      <td>5</td>\n",
              "    </tr>\n",
              "    <tr>\n",
              "      <th>394</th>\n",
              "      <td>42003980700</td>\n",
              "      <td>0</td>\n",
              "      <td>0</td>\n",
              "      <td>0</td>\n",
              "      <td>1</td>\n",
              "      <td>2</td>\n",
              "    </tr>\n",
              "    <tr>\n",
              "      <th>395</th>\n",
              "      <td>42003981000</td>\n",
              "      <td>0</td>\n",
              "      <td>0</td>\n",
              "      <td>0</td>\n",
              "      <td>0</td>\n",
              "      <td>8</td>\n",
              "    </tr>\n",
              "    <tr>\n",
              "      <th>396</th>\n",
              "      <td>42003981800</td>\n",
              "      <td>0</td>\n",
              "      <td>0</td>\n",
              "      <td>0</td>\n",
              "      <td>0</td>\n",
              "      <td>13</td>\n",
              "    </tr>\n",
              "    <tr>\n",
              "      <th>397</th>\n",
              "      <td>42003982200</td>\n",
              "      <td>0</td>\n",
              "      <td>0</td>\n",
              "      <td>0</td>\n",
              "      <td>0</td>\n",
              "      <td>34</td>\n",
              "    </tr>\n",
              "  </tbody>\n",
              "</table>\n",
              "<p>398 rows × 6 columns</p>\n",
              "</div>\n",
              "    <div class=\"colab-df-buttons\">\n",
              "\n",
              "  <div class=\"colab-df-container\">\n",
              "    <button class=\"colab-df-convert\" onclick=\"convertToInteractive('df-e7b559e1-4002-4fba-b77b-00d565215d0f')\"\n",
              "            title=\"Convert this dataframe to an interactive table.\"\n",
              "            style=\"display:none;\">\n",
              "\n",
              "  <svg xmlns=\"http://www.w3.org/2000/svg\" height=\"24px\" viewBox=\"0 -960 960 960\">\n",
              "    <path d=\"M120-120v-720h720v720H120Zm60-500h600v-160H180v160Zm220 220h160v-160H400v160Zm0 220h160v-160H400v160ZM180-400h160v-160H180v160Zm440 0h160v-160H620v160ZM180-180h160v-160H180v160Zm440 0h160v-160H620v160Z\"/>\n",
              "  </svg>\n",
              "    </button>\n",
              "\n",
              "  <style>\n",
              "    .colab-df-container {\n",
              "      display:flex;\n",
              "      gap: 12px;\n",
              "    }\n",
              "\n",
              "    .colab-df-convert {\n",
              "      background-color: #E8F0FE;\n",
              "      border: none;\n",
              "      border-radius: 50%;\n",
              "      cursor: pointer;\n",
              "      display: none;\n",
              "      fill: #1967D2;\n",
              "      height: 32px;\n",
              "      padding: 0 0 0 0;\n",
              "      width: 32px;\n",
              "    }\n",
              "\n",
              "    .colab-df-convert:hover {\n",
              "      background-color: #E2EBFA;\n",
              "      box-shadow: 0px 1px 2px rgba(60, 64, 67, 0.3), 0px 1px 3px 1px rgba(60, 64, 67, 0.15);\n",
              "      fill: #174EA6;\n",
              "    }\n",
              "\n",
              "    .colab-df-buttons div {\n",
              "      margin-bottom: 4px;\n",
              "    }\n",
              "\n",
              "    [theme=dark] .colab-df-convert {\n",
              "      background-color: #3B4455;\n",
              "      fill: #D2E3FC;\n",
              "    }\n",
              "\n",
              "    [theme=dark] .colab-df-convert:hover {\n",
              "      background-color: #434B5C;\n",
              "      box-shadow: 0px 1px 3px 1px rgba(0, 0, 0, 0.15);\n",
              "      filter: drop-shadow(0px 1px 2px rgba(0, 0, 0, 0.3));\n",
              "      fill: #FFFFFF;\n",
              "    }\n",
              "  </style>\n",
              "\n",
              "    <script>\n",
              "      const buttonEl =\n",
              "        document.querySelector('#df-e7b559e1-4002-4fba-b77b-00d565215d0f button.colab-df-convert');\n",
              "      buttonEl.style.display =\n",
              "        google.colab.kernel.accessAllowed ? 'block' : 'none';\n",
              "\n",
              "      async function convertToInteractive(key) {\n",
              "        const element = document.querySelector('#df-e7b559e1-4002-4fba-b77b-00d565215d0f');\n",
              "        const dataTable =\n",
              "          await google.colab.kernel.invokeFunction('convertToInteractive',\n",
              "                                                    [key], {});\n",
              "        if (!dataTable) return;\n",
              "\n",
              "        const docLinkHtml = 'Like what you see? Visit the ' +\n",
              "          '<a target=\"_blank\" href=https://colab.research.google.com/notebooks/data_table.ipynb>data table notebook</a>'\n",
              "          + ' to learn more about interactive tables.';\n",
              "        element.innerHTML = '';\n",
              "        dataTable['output_type'] = 'display_data';\n",
              "        await google.colab.output.renderOutput(dataTable, element);\n",
              "        const docLink = document.createElement('div');\n",
              "        docLink.innerHTML = docLinkHtml;\n",
              "        element.appendChild(docLink);\n",
              "      }\n",
              "    </script>\n",
              "  </div>\n",
              "\n",
              "\n",
              "<div id=\"df-ff03013e-d1ee-499a-a7b2-26edfdca69ba\">\n",
              "  <button class=\"colab-df-quickchart\" onclick=\"quickchart('df-ff03013e-d1ee-499a-a7b2-26edfdca69ba')\"\n",
              "            title=\"Suggest charts.\"\n",
              "            style=\"display:none;\">\n",
              "\n",
              "<svg xmlns=\"http://www.w3.org/2000/svg\" height=\"24px\"viewBox=\"0 0 24 24\"\n",
              "     width=\"24px\">\n",
              "    <g>\n",
              "        <path d=\"M19 3H5c-1.1 0-2 .9-2 2v14c0 1.1.9 2 2 2h14c1.1 0 2-.9 2-2V5c0-1.1-.9-2-2-2zM9 17H7v-7h2v7zm4 0h-2V7h2v10zm4 0h-2v-4h2v4z\"/>\n",
              "    </g>\n",
              "</svg>\n",
              "  </button>\n",
              "\n",
              "<style>\n",
              "  .colab-df-quickchart {\n",
              "      --bg-color: #E8F0FE;\n",
              "      --fill-color: #1967D2;\n",
              "      --hover-bg-color: #E2EBFA;\n",
              "      --hover-fill-color: #174EA6;\n",
              "      --disabled-fill-color: #AAA;\n",
              "      --disabled-bg-color: #DDD;\n",
              "  }\n",
              "\n",
              "  [theme=dark] .colab-df-quickchart {\n",
              "      --bg-color: #3B4455;\n",
              "      --fill-color: #D2E3FC;\n",
              "      --hover-bg-color: #434B5C;\n",
              "      --hover-fill-color: #FFFFFF;\n",
              "      --disabled-bg-color: #3B4455;\n",
              "      --disabled-fill-color: #666;\n",
              "  }\n",
              "\n",
              "  .colab-df-quickchart {\n",
              "    background-color: var(--bg-color);\n",
              "    border: none;\n",
              "    border-radius: 50%;\n",
              "    cursor: pointer;\n",
              "    display: none;\n",
              "    fill: var(--fill-color);\n",
              "    height: 32px;\n",
              "    padding: 0;\n",
              "    width: 32px;\n",
              "  }\n",
              "\n",
              "  .colab-df-quickchart:hover {\n",
              "    background-color: var(--hover-bg-color);\n",
              "    box-shadow: 0 1px 2px rgba(60, 64, 67, 0.3), 0 1px 3px 1px rgba(60, 64, 67, 0.15);\n",
              "    fill: var(--button-hover-fill-color);\n",
              "  }\n",
              "\n",
              "  .colab-df-quickchart-complete:disabled,\n",
              "  .colab-df-quickchart-complete:disabled:hover {\n",
              "    background-color: var(--disabled-bg-color);\n",
              "    fill: var(--disabled-fill-color);\n",
              "    box-shadow: none;\n",
              "  }\n",
              "\n",
              "  .colab-df-spinner {\n",
              "    border: 2px solid var(--fill-color);\n",
              "    border-color: transparent;\n",
              "    border-bottom-color: var(--fill-color);\n",
              "    animation:\n",
              "      spin 1s steps(1) infinite;\n",
              "  }\n",
              "\n",
              "  @keyframes spin {\n",
              "    0% {\n",
              "      border-color: transparent;\n",
              "      border-bottom-color: var(--fill-color);\n",
              "      border-left-color: var(--fill-color);\n",
              "    }\n",
              "    20% {\n",
              "      border-color: transparent;\n",
              "      border-left-color: var(--fill-color);\n",
              "      border-top-color: var(--fill-color);\n",
              "    }\n",
              "    30% {\n",
              "      border-color: transparent;\n",
              "      border-left-color: var(--fill-color);\n",
              "      border-top-color: var(--fill-color);\n",
              "      border-right-color: var(--fill-color);\n",
              "    }\n",
              "    40% {\n",
              "      border-color: transparent;\n",
              "      border-right-color: var(--fill-color);\n",
              "      border-top-color: var(--fill-color);\n",
              "    }\n",
              "    60% {\n",
              "      border-color: transparent;\n",
              "      border-right-color: var(--fill-color);\n",
              "    }\n",
              "    80% {\n",
              "      border-color: transparent;\n",
              "      border-right-color: var(--fill-color);\n",
              "      border-bottom-color: var(--fill-color);\n",
              "    }\n",
              "    90% {\n",
              "      border-color: transparent;\n",
              "      border-bottom-color: var(--fill-color);\n",
              "    }\n",
              "  }\n",
              "</style>\n",
              "\n",
              "  <script>\n",
              "    async function quickchart(key) {\n",
              "      const quickchartButtonEl =\n",
              "        document.querySelector('#' + key + ' button');\n",
              "      quickchartButtonEl.disabled = true;  // To prevent multiple clicks.\n",
              "      quickchartButtonEl.classList.add('colab-df-spinner');\n",
              "      try {\n",
              "        const charts = await google.colab.kernel.invokeFunction(\n",
              "            'suggestCharts', [key], {});\n",
              "      } catch (error) {\n",
              "        console.error('Error during call to suggestCharts:', error);\n",
              "      }\n",
              "      quickchartButtonEl.classList.remove('colab-df-spinner');\n",
              "      quickchartButtonEl.classList.add('colab-df-quickchart-complete');\n",
              "    }\n",
              "    (() => {\n",
              "      let quickchartButtonEl =\n",
              "        document.querySelector('#df-ff03013e-d1ee-499a-a7b2-26edfdca69ba button');\n",
              "      quickchartButtonEl.style.display =\n",
              "        google.colab.kernel.accessAllowed ? 'block' : 'none';\n",
              "    })();\n",
              "  </script>\n",
              "</div>\n",
              "    </div>\n",
              "  </div>\n"
            ]
          },
          "metadata": {},
          "execution_count": 18
        }
      ]
    },
    {
      "cell_type": "code",
      "source": [
        "df.shape"
      ],
      "metadata": {
        "colab": {
          "base_uri": "https://localhost:8080/"
        },
        "id": "oWm4F-fjnwe1",
        "outputId": "1879fe2c-b02d-43f2-e188-3008fa0b9988"
      },
      "execution_count": 22,
      "outputs": [
        {
          "output_type": "execute_result",
          "data": {
            "text/plain": [
              "(398, 6)"
            ]
          },
          "metadata": {},
          "execution_count": 22
        }
      ]
    },
    {
      "cell_type": "code",
      "source": [
        "df.size"
      ],
      "metadata": {
        "colab": {
          "base_uri": "https://localhost:8080/"
        },
        "id": "0qDv1wVXnyKl",
        "outputId": "a21b61bf-b923-4453-8916-80903d34996c"
      },
      "execution_count": 23,
      "outputs": [
        {
          "output_type": "execute_result",
          "data": {
            "text/plain": [
              "2388"
            ]
          },
          "metadata": {},
          "execution_count": 23
        }
      ]
    },
    {
      "cell_type": "code",
      "source": [
        "df.sample(10)"
      ],
      "metadata": {
        "colab": {
          "base_uri": "https://localhost:8080/",
          "height": 363
        },
        "id": "SDLqZj8MoAjS",
        "outputId": "373764de-6f93-44e3-f702-c87aabf375b1"
      },
      "execution_count": 24,
      "outputs": [
        {
          "output_type": "execute_result",
          "data": {
            "text/plain": [
              "     Census_tract  ED_visits  ED_hosp  UC_visits  Asthma_use  Total_members\n",
              "294   42003498000          0        0          0          26            351\n",
              "131   42003413500          3        1          2          58            687\n",
              "196   42003457100          1        0          0          14            178\n",
              "126   42003413100          0        1          1          80            993\n",
              "23    42003080600          1        0          0           6            162\n",
              "359   42003560500          0        0          0          11            161\n",
              "363   42003561200          9        4          0          20            256\n",
              "228   42003473200          0        0          1          35            430\n",
              "147   42003424000          5        2          1          46            600\n",
              "114   42003404000          1        0          0          27            303"
            ],
            "text/html": [
              "\n",
              "  <div id=\"df-0b2164d1-1005-4d7f-a712-ec35b32378e0\" class=\"colab-df-container\">\n",
              "    <div>\n",
              "<style scoped>\n",
              "    .dataframe tbody tr th:only-of-type {\n",
              "        vertical-align: middle;\n",
              "    }\n",
              "\n",
              "    .dataframe tbody tr th {\n",
              "        vertical-align: top;\n",
              "    }\n",
              "\n",
              "    .dataframe thead th {\n",
              "        text-align: right;\n",
              "    }\n",
              "</style>\n",
              "<table border=\"1\" class=\"dataframe\">\n",
              "  <thead>\n",
              "    <tr style=\"text-align: right;\">\n",
              "      <th></th>\n",
              "      <th>Census_tract</th>\n",
              "      <th>ED_visits</th>\n",
              "      <th>ED_hosp</th>\n",
              "      <th>UC_visits</th>\n",
              "      <th>Asthma_use</th>\n",
              "      <th>Total_members</th>\n",
              "    </tr>\n",
              "  </thead>\n",
              "  <tbody>\n",
              "    <tr>\n",
              "      <th>294</th>\n",
              "      <td>42003498000</td>\n",
              "      <td>0</td>\n",
              "      <td>0</td>\n",
              "      <td>0</td>\n",
              "      <td>26</td>\n",
              "      <td>351</td>\n",
              "    </tr>\n",
              "    <tr>\n",
              "      <th>131</th>\n",
              "      <td>42003413500</td>\n",
              "      <td>3</td>\n",
              "      <td>1</td>\n",
              "      <td>2</td>\n",
              "      <td>58</td>\n",
              "      <td>687</td>\n",
              "    </tr>\n",
              "    <tr>\n",
              "      <th>196</th>\n",
              "      <td>42003457100</td>\n",
              "      <td>1</td>\n",
              "      <td>0</td>\n",
              "      <td>0</td>\n",
              "      <td>14</td>\n",
              "      <td>178</td>\n",
              "    </tr>\n",
              "    <tr>\n",
              "      <th>126</th>\n",
              "      <td>42003413100</td>\n",
              "      <td>0</td>\n",
              "      <td>1</td>\n",
              "      <td>1</td>\n",
              "      <td>80</td>\n",
              "      <td>993</td>\n",
              "    </tr>\n",
              "    <tr>\n",
              "      <th>23</th>\n",
              "      <td>42003080600</td>\n",
              "      <td>1</td>\n",
              "      <td>0</td>\n",
              "      <td>0</td>\n",
              "      <td>6</td>\n",
              "      <td>162</td>\n",
              "    </tr>\n",
              "    <tr>\n",
              "      <th>359</th>\n",
              "      <td>42003560500</td>\n",
              "      <td>0</td>\n",
              "      <td>0</td>\n",
              "      <td>0</td>\n",
              "      <td>11</td>\n",
              "      <td>161</td>\n",
              "    </tr>\n",
              "    <tr>\n",
              "      <th>363</th>\n",
              "      <td>42003561200</td>\n",
              "      <td>9</td>\n",
              "      <td>4</td>\n",
              "      <td>0</td>\n",
              "      <td>20</td>\n",
              "      <td>256</td>\n",
              "    </tr>\n",
              "    <tr>\n",
              "      <th>228</th>\n",
              "      <td>42003473200</td>\n",
              "      <td>0</td>\n",
              "      <td>0</td>\n",
              "      <td>1</td>\n",
              "      <td>35</td>\n",
              "      <td>430</td>\n",
              "    </tr>\n",
              "    <tr>\n",
              "      <th>147</th>\n",
              "      <td>42003424000</td>\n",
              "      <td>5</td>\n",
              "      <td>2</td>\n",
              "      <td>1</td>\n",
              "      <td>46</td>\n",
              "      <td>600</td>\n",
              "    </tr>\n",
              "    <tr>\n",
              "      <th>114</th>\n",
              "      <td>42003404000</td>\n",
              "      <td>1</td>\n",
              "      <td>0</td>\n",
              "      <td>0</td>\n",
              "      <td>27</td>\n",
              "      <td>303</td>\n",
              "    </tr>\n",
              "  </tbody>\n",
              "</table>\n",
              "</div>\n",
              "    <div class=\"colab-df-buttons\">\n",
              "\n",
              "  <div class=\"colab-df-container\">\n",
              "    <button class=\"colab-df-convert\" onclick=\"convertToInteractive('df-0b2164d1-1005-4d7f-a712-ec35b32378e0')\"\n",
              "            title=\"Convert this dataframe to an interactive table.\"\n",
              "            style=\"display:none;\">\n",
              "\n",
              "  <svg xmlns=\"http://www.w3.org/2000/svg\" height=\"24px\" viewBox=\"0 -960 960 960\">\n",
              "    <path d=\"M120-120v-720h720v720H120Zm60-500h600v-160H180v160Zm220 220h160v-160H400v160Zm0 220h160v-160H400v160ZM180-400h160v-160H180v160Zm440 0h160v-160H620v160ZM180-180h160v-160H180v160Zm440 0h160v-160H620v160Z\"/>\n",
              "  </svg>\n",
              "    </button>\n",
              "\n",
              "  <style>\n",
              "    .colab-df-container {\n",
              "      display:flex;\n",
              "      gap: 12px;\n",
              "    }\n",
              "\n",
              "    .colab-df-convert {\n",
              "      background-color: #E8F0FE;\n",
              "      border: none;\n",
              "      border-radius: 50%;\n",
              "      cursor: pointer;\n",
              "      display: none;\n",
              "      fill: #1967D2;\n",
              "      height: 32px;\n",
              "      padding: 0 0 0 0;\n",
              "      width: 32px;\n",
              "    }\n",
              "\n",
              "    .colab-df-convert:hover {\n",
              "      background-color: #E2EBFA;\n",
              "      box-shadow: 0px 1px 2px rgba(60, 64, 67, 0.3), 0px 1px 3px 1px rgba(60, 64, 67, 0.15);\n",
              "      fill: #174EA6;\n",
              "    }\n",
              "\n",
              "    .colab-df-buttons div {\n",
              "      margin-bottom: 4px;\n",
              "    }\n",
              "\n",
              "    [theme=dark] .colab-df-convert {\n",
              "      background-color: #3B4455;\n",
              "      fill: #D2E3FC;\n",
              "    }\n",
              "\n",
              "    [theme=dark] .colab-df-convert:hover {\n",
              "      background-color: #434B5C;\n",
              "      box-shadow: 0px 1px 3px 1px rgba(0, 0, 0, 0.15);\n",
              "      filter: drop-shadow(0px 1px 2px rgba(0, 0, 0, 0.3));\n",
              "      fill: #FFFFFF;\n",
              "    }\n",
              "  </style>\n",
              "\n",
              "    <script>\n",
              "      const buttonEl =\n",
              "        document.querySelector('#df-0b2164d1-1005-4d7f-a712-ec35b32378e0 button.colab-df-convert');\n",
              "      buttonEl.style.display =\n",
              "        google.colab.kernel.accessAllowed ? 'block' : 'none';\n",
              "\n",
              "      async function convertToInteractive(key) {\n",
              "        const element = document.querySelector('#df-0b2164d1-1005-4d7f-a712-ec35b32378e0');\n",
              "        const dataTable =\n",
              "          await google.colab.kernel.invokeFunction('convertToInteractive',\n",
              "                                                    [key], {});\n",
              "        if (!dataTable) return;\n",
              "\n",
              "        const docLinkHtml = 'Like what you see? Visit the ' +\n",
              "          '<a target=\"_blank\" href=https://colab.research.google.com/notebooks/data_table.ipynb>data table notebook</a>'\n",
              "          + ' to learn more about interactive tables.';\n",
              "        element.innerHTML = '';\n",
              "        dataTable['output_type'] = 'display_data';\n",
              "        await google.colab.output.renderOutput(dataTable, element);\n",
              "        const docLink = document.createElement('div');\n",
              "        docLink.innerHTML = docLinkHtml;\n",
              "        element.appendChild(docLink);\n",
              "      }\n",
              "    </script>\n",
              "  </div>\n",
              "\n",
              "\n",
              "<div id=\"df-388703a6-1d9d-48fe-a44b-af2c855e98c5\">\n",
              "  <button class=\"colab-df-quickchart\" onclick=\"quickchart('df-388703a6-1d9d-48fe-a44b-af2c855e98c5')\"\n",
              "            title=\"Suggest charts.\"\n",
              "            style=\"display:none;\">\n",
              "\n",
              "<svg xmlns=\"http://www.w3.org/2000/svg\" height=\"24px\"viewBox=\"0 0 24 24\"\n",
              "     width=\"24px\">\n",
              "    <g>\n",
              "        <path d=\"M19 3H5c-1.1 0-2 .9-2 2v14c0 1.1.9 2 2 2h14c1.1 0 2-.9 2-2V5c0-1.1-.9-2-2-2zM9 17H7v-7h2v7zm4 0h-2V7h2v10zm4 0h-2v-4h2v4z\"/>\n",
              "    </g>\n",
              "</svg>\n",
              "  </button>\n",
              "\n",
              "<style>\n",
              "  .colab-df-quickchart {\n",
              "      --bg-color: #E8F0FE;\n",
              "      --fill-color: #1967D2;\n",
              "      --hover-bg-color: #E2EBFA;\n",
              "      --hover-fill-color: #174EA6;\n",
              "      --disabled-fill-color: #AAA;\n",
              "      --disabled-bg-color: #DDD;\n",
              "  }\n",
              "\n",
              "  [theme=dark] .colab-df-quickchart {\n",
              "      --bg-color: #3B4455;\n",
              "      --fill-color: #D2E3FC;\n",
              "      --hover-bg-color: #434B5C;\n",
              "      --hover-fill-color: #FFFFFF;\n",
              "      --disabled-bg-color: #3B4455;\n",
              "      --disabled-fill-color: #666;\n",
              "  }\n",
              "\n",
              "  .colab-df-quickchart {\n",
              "    background-color: var(--bg-color);\n",
              "    border: none;\n",
              "    border-radius: 50%;\n",
              "    cursor: pointer;\n",
              "    display: none;\n",
              "    fill: var(--fill-color);\n",
              "    height: 32px;\n",
              "    padding: 0;\n",
              "    width: 32px;\n",
              "  }\n",
              "\n",
              "  .colab-df-quickchart:hover {\n",
              "    background-color: var(--hover-bg-color);\n",
              "    box-shadow: 0 1px 2px rgba(60, 64, 67, 0.3), 0 1px 3px 1px rgba(60, 64, 67, 0.15);\n",
              "    fill: var(--button-hover-fill-color);\n",
              "  }\n",
              "\n",
              "  .colab-df-quickchart-complete:disabled,\n",
              "  .colab-df-quickchart-complete:disabled:hover {\n",
              "    background-color: var(--disabled-bg-color);\n",
              "    fill: var(--disabled-fill-color);\n",
              "    box-shadow: none;\n",
              "  }\n",
              "\n",
              "  .colab-df-spinner {\n",
              "    border: 2px solid var(--fill-color);\n",
              "    border-color: transparent;\n",
              "    border-bottom-color: var(--fill-color);\n",
              "    animation:\n",
              "      spin 1s steps(1) infinite;\n",
              "  }\n",
              "\n",
              "  @keyframes spin {\n",
              "    0% {\n",
              "      border-color: transparent;\n",
              "      border-bottom-color: var(--fill-color);\n",
              "      border-left-color: var(--fill-color);\n",
              "    }\n",
              "    20% {\n",
              "      border-color: transparent;\n",
              "      border-left-color: var(--fill-color);\n",
              "      border-top-color: var(--fill-color);\n",
              "    }\n",
              "    30% {\n",
              "      border-color: transparent;\n",
              "      border-left-color: var(--fill-color);\n",
              "      border-top-color: var(--fill-color);\n",
              "      border-right-color: var(--fill-color);\n",
              "    }\n",
              "    40% {\n",
              "      border-color: transparent;\n",
              "      border-right-color: var(--fill-color);\n",
              "      border-top-color: var(--fill-color);\n",
              "    }\n",
              "    60% {\n",
              "      border-color: transparent;\n",
              "      border-right-color: var(--fill-color);\n",
              "    }\n",
              "    80% {\n",
              "      border-color: transparent;\n",
              "      border-right-color: var(--fill-color);\n",
              "      border-bottom-color: var(--fill-color);\n",
              "    }\n",
              "    90% {\n",
              "      border-color: transparent;\n",
              "      border-bottom-color: var(--fill-color);\n",
              "    }\n",
              "  }\n",
              "</style>\n",
              "\n",
              "  <script>\n",
              "    async function quickchart(key) {\n",
              "      const quickchartButtonEl =\n",
              "        document.querySelector('#' + key + ' button');\n",
              "      quickchartButtonEl.disabled = true;  // To prevent multiple clicks.\n",
              "      quickchartButtonEl.classList.add('colab-df-spinner');\n",
              "      try {\n",
              "        const charts = await google.colab.kernel.invokeFunction(\n",
              "            'suggestCharts', [key], {});\n",
              "      } catch (error) {\n",
              "        console.error('Error during call to suggestCharts:', error);\n",
              "      }\n",
              "      quickchartButtonEl.classList.remove('colab-df-spinner');\n",
              "      quickchartButtonEl.classList.add('colab-df-quickchart-complete');\n",
              "    }\n",
              "    (() => {\n",
              "      let quickchartButtonEl =\n",
              "        document.querySelector('#df-388703a6-1d9d-48fe-a44b-af2c855e98c5 button');\n",
              "      quickchartButtonEl.style.display =\n",
              "        google.colab.kernel.accessAllowed ? 'block' : 'none';\n",
              "    })();\n",
              "  </script>\n",
              "</div>\n",
              "    </div>\n",
              "  </div>\n"
            ]
          },
          "metadata": {},
          "execution_count": 24
        }
      ]
    },
    {
      "cell_type": "code",
      "source": [
        "df.columns"
      ],
      "metadata": {
        "colab": {
          "base_uri": "https://localhost:8080/"
        },
        "id": "lnnkPQ0Tnzna",
        "outputId": "7ec763f1-3a06-4990-f4fa-215e53971da6"
      },
      "execution_count": 25,
      "outputs": [
        {
          "output_type": "execute_result",
          "data": {
            "text/plain": [
              "Index(['Census_tract', 'ED_visits', 'ED_hosp', 'UC_visits', 'Asthma_use',\n",
              "       'Total_members'],\n",
              "      dtype='object')"
            ]
          },
          "metadata": {},
          "execution_count": 25
        }
      ]
    },
    {
      "cell_type": "code",
      "source": [
        "df['ED_hosp'].value_counts()"
      ],
      "metadata": {
        "colab": {
          "base_uri": "https://localhost:8080/"
        },
        "id": "m25Ort73oEFY",
        "outputId": "00de3e63-1ab8-4c26-80b7-b25fd25ce7fb"
      },
      "execution_count": 27,
      "outputs": [
        {
          "output_type": "execute_result",
          "data": {
            "text/plain": [
              "0     174\n",
              "1      90\n",
              "2      53\n",
              "3      27\n",
              "4      15\n",
              "5       7\n",
              "8       7\n",
              "7       6\n",
              "9       6\n",
              "6       6\n",
              "10      3\n",
              "14      2\n",
              "19      1\n",
              "11      1\n",
              "Name: ED_hosp, dtype: int64"
            ]
          },
          "metadata": {},
          "execution_count": 27
        }
      ]
    },
    {
      "cell_type": "code",
      "source": [
        "df['ED_visits'].value_counts"
      ],
      "metadata": {
        "colab": {
          "base_uri": "https://localhost:8080/"
        },
        "id": "48ZNrXTfpQze",
        "outputId": "0a1405c9-0da5-45f9-f5ac-51936e91d3a2"
      },
      "execution_count": 28,
      "outputs": [
        {
          "output_type": "execute_result",
          "data": {
            "text/plain": [
              "<bound method IndexOpsMixin.value_counts of 0       2\n",
              "1      32\n",
              "2       0\n",
              "3      11\n",
              "4       2\n",
              "       ..\n",
              "393     0\n",
              "394     0\n",
              "395     0\n",
              "396     0\n",
              "397     0\n",
              "Name: ED_visits, Length: 398, dtype: int64>"
            ]
          },
          "metadata": {},
          "execution_count": 28
        }
      ]
    },
    {
      "cell_type": "code",
      "source": [
        "df['Census_tract'].nunique()"
      ],
      "metadata": {
        "colab": {
          "base_uri": "https://localhost:8080/"
        },
        "id": "AokZuWPbo7Ax",
        "outputId": "6ca8db3f-3527-4960-ed5e-275bd8b0ade5"
      },
      "execution_count": 29,
      "outputs": [
        {
          "output_type": "execute_result",
          "data": {
            "text/plain": [
              "398"
            ]
          },
          "metadata": {},
          "execution_count": 29
        }
      ]
    },
    {
      "cell_type": "code",
      "source": [
        "df.isnull().sum()"
      ],
      "metadata": {
        "colab": {
          "base_uri": "https://localhost:8080/"
        },
        "id": "fSNhViHSohId",
        "outputId": "dfbbc2af-e13d-4be5-bac8-2bddea39942e"
      },
      "execution_count": 30,
      "outputs": [
        {
          "output_type": "execute_result",
          "data": {
            "text/plain": [
              "Census_tract     0\n",
              "ED_visits        0\n",
              "ED_hosp          0\n",
              "UC_visits        0\n",
              "Asthma_use       0\n",
              "Total_members    0\n",
              "dtype: int64"
            ]
          },
          "metadata": {},
          "execution_count": 30
        }
      ]
    },
    {
      "cell_type": "code",
      "source": [
        "df.describe()"
      ],
      "metadata": {
        "colab": {
          "base_uri": "https://localhost:8080/",
          "height": 300
        },
        "id": "i1CVDSKMolru",
        "outputId": "efcca138-2c69-4394-b3f5-83247027f294"
      },
      "execution_count": 31,
      "outputs": [
        {
          "output_type": "execute_result",
          "data": {
            "text/plain": [
              "       Census_tract   ED_visits     ED_hosp   UC_visits  Asthma_use  \\\n",
              "count  3.980000e+02  398.000000  398.000000  398.000000  398.000000   \n",
              "mean   4.200340e+10    3.241206    1.628141    0.645729   38.211055   \n",
              "std    1.809308e+05    3.867726    2.520927    0.997538   26.692213   \n",
              "min    4.200301e+10    0.000000    0.000000    0.000000    0.000000   \n",
              "25%    4.200328e+10    1.000000    0.000000    0.000000   20.000000   \n",
              "50%    4.200346e+10    2.000000    1.000000    0.000000   35.000000   \n",
              "75%    4.200350e+10    4.000000    2.000000    1.000000   53.000000   \n",
              "max    4.200398e+10   32.000000   19.000000    6.000000  240.000000   \n",
              "\n",
              "       Total_members  \n",
              "count     398.000000  \n",
              "mean      466.160804  \n",
              "std       295.714154  \n",
              "min         1.000000  \n",
              "25%       249.500000  \n",
              "50%       412.000000  \n",
              "75%       646.750000  \n",
              "max      2398.000000  "
            ],
            "text/html": [
              "\n",
              "  <div id=\"df-4ea725cd-33c0-41bb-aae9-ec892fc6b751\" class=\"colab-df-container\">\n",
              "    <div>\n",
              "<style scoped>\n",
              "    .dataframe tbody tr th:only-of-type {\n",
              "        vertical-align: middle;\n",
              "    }\n",
              "\n",
              "    .dataframe tbody tr th {\n",
              "        vertical-align: top;\n",
              "    }\n",
              "\n",
              "    .dataframe thead th {\n",
              "        text-align: right;\n",
              "    }\n",
              "</style>\n",
              "<table border=\"1\" class=\"dataframe\">\n",
              "  <thead>\n",
              "    <tr style=\"text-align: right;\">\n",
              "      <th></th>\n",
              "      <th>Census_tract</th>\n",
              "      <th>ED_visits</th>\n",
              "      <th>ED_hosp</th>\n",
              "      <th>UC_visits</th>\n",
              "      <th>Asthma_use</th>\n",
              "      <th>Total_members</th>\n",
              "    </tr>\n",
              "  </thead>\n",
              "  <tbody>\n",
              "    <tr>\n",
              "      <th>count</th>\n",
              "      <td>3.980000e+02</td>\n",
              "      <td>398.000000</td>\n",
              "      <td>398.000000</td>\n",
              "      <td>398.000000</td>\n",
              "      <td>398.000000</td>\n",
              "      <td>398.000000</td>\n",
              "    </tr>\n",
              "    <tr>\n",
              "      <th>mean</th>\n",
              "      <td>4.200340e+10</td>\n",
              "      <td>3.241206</td>\n",
              "      <td>1.628141</td>\n",
              "      <td>0.645729</td>\n",
              "      <td>38.211055</td>\n",
              "      <td>466.160804</td>\n",
              "    </tr>\n",
              "    <tr>\n",
              "      <th>std</th>\n",
              "      <td>1.809308e+05</td>\n",
              "      <td>3.867726</td>\n",
              "      <td>2.520927</td>\n",
              "      <td>0.997538</td>\n",
              "      <td>26.692213</td>\n",
              "      <td>295.714154</td>\n",
              "    </tr>\n",
              "    <tr>\n",
              "      <th>min</th>\n",
              "      <td>4.200301e+10</td>\n",
              "      <td>0.000000</td>\n",
              "      <td>0.000000</td>\n",
              "      <td>0.000000</td>\n",
              "      <td>0.000000</td>\n",
              "      <td>1.000000</td>\n",
              "    </tr>\n",
              "    <tr>\n",
              "      <th>25%</th>\n",
              "      <td>4.200328e+10</td>\n",
              "      <td>1.000000</td>\n",
              "      <td>0.000000</td>\n",
              "      <td>0.000000</td>\n",
              "      <td>20.000000</td>\n",
              "      <td>249.500000</td>\n",
              "    </tr>\n",
              "    <tr>\n",
              "      <th>50%</th>\n",
              "      <td>4.200346e+10</td>\n",
              "      <td>2.000000</td>\n",
              "      <td>1.000000</td>\n",
              "      <td>0.000000</td>\n",
              "      <td>35.000000</td>\n",
              "      <td>412.000000</td>\n",
              "    </tr>\n",
              "    <tr>\n",
              "      <th>75%</th>\n",
              "      <td>4.200350e+10</td>\n",
              "      <td>4.000000</td>\n",
              "      <td>2.000000</td>\n",
              "      <td>1.000000</td>\n",
              "      <td>53.000000</td>\n",
              "      <td>646.750000</td>\n",
              "    </tr>\n",
              "    <tr>\n",
              "      <th>max</th>\n",
              "      <td>4.200398e+10</td>\n",
              "      <td>32.000000</td>\n",
              "      <td>19.000000</td>\n",
              "      <td>6.000000</td>\n",
              "      <td>240.000000</td>\n",
              "      <td>2398.000000</td>\n",
              "    </tr>\n",
              "  </tbody>\n",
              "</table>\n",
              "</div>\n",
              "    <div class=\"colab-df-buttons\">\n",
              "\n",
              "  <div class=\"colab-df-container\">\n",
              "    <button class=\"colab-df-convert\" onclick=\"convertToInteractive('df-4ea725cd-33c0-41bb-aae9-ec892fc6b751')\"\n",
              "            title=\"Convert this dataframe to an interactive table.\"\n",
              "            style=\"display:none;\">\n",
              "\n",
              "  <svg xmlns=\"http://www.w3.org/2000/svg\" height=\"24px\" viewBox=\"0 -960 960 960\">\n",
              "    <path d=\"M120-120v-720h720v720H120Zm60-500h600v-160H180v160Zm220 220h160v-160H400v160Zm0 220h160v-160H400v160ZM180-400h160v-160H180v160Zm440 0h160v-160H620v160ZM180-180h160v-160H180v160Zm440 0h160v-160H620v160Z\"/>\n",
              "  </svg>\n",
              "    </button>\n",
              "\n",
              "  <style>\n",
              "    .colab-df-container {\n",
              "      display:flex;\n",
              "      gap: 12px;\n",
              "    }\n",
              "\n",
              "    .colab-df-convert {\n",
              "      background-color: #E8F0FE;\n",
              "      border: none;\n",
              "      border-radius: 50%;\n",
              "      cursor: pointer;\n",
              "      display: none;\n",
              "      fill: #1967D2;\n",
              "      height: 32px;\n",
              "      padding: 0 0 0 0;\n",
              "      width: 32px;\n",
              "    }\n",
              "\n",
              "    .colab-df-convert:hover {\n",
              "      background-color: #E2EBFA;\n",
              "      box-shadow: 0px 1px 2px rgba(60, 64, 67, 0.3), 0px 1px 3px 1px rgba(60, 64, 67, 0.15);\n",
              "      fill: #174EA6;\n",
              "    }\n",
              "\n",
              "    .colab-df-buttons div {\n",
              "      margin-bottom: 4px;\n",
              "    }\n",
              "\n",
              "    [theme=dark] .colab-df-convert {\n",
              "      background-color: #3B4455;\n",
              "      fill: #D2E3FC;\n",
              "    }\n",
              "\n",
              "    [theme=dark] .colab-df-convert:hover {\n",
              "      background-color: #434B5C;\n",
              "      box-shadow: 0px 1px 3px 1px rgba(0, 0, 0, 0.15);\n",
              "      filter: drop-shadow(0px 1px 2px rgba(0, 0, 0, 0.3));\n",
              "      fill: #FFFFFF;\n",
              "    }\n",
              "  </style>\n",
              "\n",
              "    <script>\n",
              "      const buttonEl =\n",
              "        document.querySelector('#df-4ea725cd-33c0-41bb-aae9-ec892fc6b751 button.colab-df-convert');\n",
              "      buttonEl.style.display =\n",
              "        google.colab.kernel.accessAllowed ? 'block' : 'none';\n",
              "\n",
              "      async function convertToInteractive(key) {\n",
              "        const element = document.querySelector('#df-4ea725cd-33c0-41bb-aae9-ec892fc6b751');\n",
              "        const dataTable =\n",
              "          await google.colab.kernel.invokeFunction('convertToInteractive',\n",
              "                                                    [key], {});\n",
              "        if (!dataTable) return;\n",
              "\n",
              "        const docLinkHtml = 'Like what you see? Visit the ' +\n",
              "          '<a target=\"_blank\" href=https://colab.research.google.com/notebooks/data_table.ipynb>data table notebook</a>'\n",
              "          + ' to learn more about interactive tables.';\n",
              "        element.innerHTML = '';\n",
              "        dataTable['output_type'] = 'display_data';\n",
              "        await google.colab.output.renderOutput(dataTable, element);\n",
              "        const docLink = document.createElement('div');\n",
              "        docLink.innerHTML = docLinkHtml;\n",
              "        element.appendChild(docLink);\n",
              "      }\n",
              "    </script>\n",
              "  </div>\n",
              "\n",
              "\n",
              "<div id=\"df-e5cbf61a-e8cf-45fc-a2e0-051b0eb14eb8\">\n",
              "  <button class=\"colab-df-quickchart\" onclick=\"quickchart('df-e5cbf61a-e8cf-45fc-a2e0-051b0eb14eb8')\"\n",
              "            title=\"Suggest charts.\"\n",
              "            style=\"display:none;\">\n",
              "\n",
              "<svg xmlns=\"http://www.w3.org/2000/svg\" height=\"24px\"viewBox=\"0 0 24 24\"\n",
              "     width=\"24px\">\n",
              "    <g>\n",
              "        <path d=\"M19 3H5c-1.1 0-2 .9-2 2v14c0 1.1.9 2 2 2h14c1.1 0 2-.9 2-2V5c0-1.1-.9-2-2-2zM9 17H7v-7h2v7zm4 0h-2V7h2v10zm4 0h-2v-4h2v4z\"/>\n",
              "    </g>\n",
              "</svg>\n",
              "  </button>\n",
              "\n",
              "<style>\n",
              "  .colab-df-quickchart {\n",
              "      --bg-color: #E8F0FE;\n",
              "      --fill-color: #1967D2;\n",
              "      --hover-bg-color: #E2EBFA;\n",
              "      --hover-fill-color: #174EA6;\n",
              "      --disabled-fill-color: #AAA;\n",
              "      --disabled-bg-color: #DDD;\n",
              "  }\n",
              "\n",
              "  [theme=dark] .colab-df-quickchart {\n",
              "      --bg-color: #3B4455;\n",
              "      --fill-color: #D2E3FC;\n",
              "      --hover-bg-color: #434B5C;\n",
              "      --hover-fill-color: #FFFFFF;\n",
              "      --disabled-bg-color: #3B4455;\n",
              "      --disabled-fill-color: #666;\n",
              "  }\n",
              "\n",
              "  .colab-df-quickchart {\n",
              "    background-color: var(--bg-color);\n",
              "    border: none;\n",
              "    border-radius: 50%;\n",
              "    cursor: pointer;\n",
              "    display: none;\n",
              "    fill: var(--fill-color);\n",
              "    height: 32px;\n",
              "    padding: 0;\n",
              "    width: 32px;\n",
              "  }\n",
              "\n",
              "  .colab-df-quickchart:hover {\n",
              "    background-color: var(--hover-bg-color);\n",
              "    box-shadow: 0 1px 2px rgba(60, 64, 67, 0.3), 0 1px 3px 1px rgba(60, 64, 67, 0.15);\n",
              "    fill: var(--button-hover-fill-color);\n",
              "  }\n",
              "\n",
              "  .colab-df-quickchart-complete:disabled,\n",
              "  .colab-df-quickchart-complete:disabled:hover {\n",
              "    background-color: var(--disabled-bg-color);\n",
              "    fill: var(--disabled-fill-color);\n",
              "    box-shadow: none;\n",
              "  }\n",
              "\n",
              "  .colab-df-spinner {\n",
              "    border: 2px solid var(--fill-color);\n",
              "    border-color: transparent;\n",
              "    border-bottom-color: var(--fill-color);\n",
              "    animation:\n",
              "      spin 1s steps(1) infinite;\n",
              "  }\n",
              "\n",
              "  @keyframes spin {\n",
              "    0% {\n",
              "      border-color: transparent;\n",
              "      border-bottom-color: var(--fill-color);\n",
              "      border-left-color: var(--fill-color);\n",
              "    }\n",
              "    20% {\n",
              "      border-color: transparent;\n",
              "      border-left-color: var(--fill-color);\n",
              "      border-top-color: var(--fill-color);\n",
              "    }\n",
              "    30% {\n",
              "      border-color: transparent;\n",
              "      border-left-color: var(--fill-color);\n",
              "      border-top-color: var(--fill-color);\n",
              "      border-right-color: var(--fill-color);\n",
              "    }\n",
              "    40% {\n",
              "      border-color: transparent;\n",
              "      border-right-color: var(--fill-color);\n",
              "      border-top-color: var(--fill-color);\n",
              "    }\n",
              "    60% {\n",
              "      border-color: transparent;\n",
              "      border-right-color: var(--fill-color);\n",
              "    }\n",
              "    80% {\n",
              "      border-color: transparent;\n",
              "      border-right-color: var(--fill-color);\n",
              "      border-bottom-color: var(--fill-color);\n",
              "    }\n",
              "    90% {\n",
              "      border-color: transparent;\n",
              "      border-bottom-color: var(--fill-color);\n",
              "    }\n",
              "  }\n",
              "</style>\n",
              "\n",
              "  <script>\n",
              "    async function quickchart(key) {\n",
              "      const quickchartButtonEl =\n",
              "        document.querySelector('#' + key + ' button');\n",
              "      quickchartButtonEl.disabled = true;  // To prevent multiple clicks.\n",
              "      quickchartButtonEl.classList.add('colab-df-spinner');\n",
              "      try {\n",
              "        const charts = await google.colab.kernel.invokeFunction(\n",
              "            'suggestCharts', [key], {});\n",
              "      } catch (error) {\n",
              "        console.error('Error during call to suggestCharts:', error);\n",
              "      }\n",
              "      quickchartButtonEl.classList.remove('colab-df-spinner');\n",
              "      quickchartButtonEl.classList.add('colab-df-quickchart-complete');\n",
              "    }\n",
              "    (() => {\n",
              "      let quickchartButtonEl =\n",
              "        document.querySelector('#df-e5cbf61a-e8cf-45fc-a2e0-051b0eb14eb8 button');\n",
              "      quickchartButtonEl.style.display =\n",
              "        google.colab.kernel.accessAllowed ? 'block' : 'none';\n",
              "    })();\n",
              "  </script>\n",
              "</div>\n",
              "    </div>\n",
              "  </div>\n"
            ]
          },
          "metadata": {},
          "execution_count": 31
        }
      ]
    },
    {
      "cell_type": "markdown",
      "source": [
        "## **Univariate Analysis**"
      ],
      "metadata": {
        "id": "qjfBQn0doyd5"
      }
    },
    {
      "cell_type": "markdown",
      "source": [
        "### Emergency Department Visits"
      ],
      "metadata": {
        "id": "t1J0moT5uOtH"
      }
    },
    {
      "cell_type": "markdown",
      "source": [
        "#### Measures of Central Tendency"
      ],
      "metadata": {
        "id": "hITYIO7RpY3S"
      }
    },
    {
      "cell_type": "code",
      "source": [
        "mean_ED_visits = df['ED_visits'].mean()\n",
        "print (mean_ED_visits)"
      ],
      "metadata": {
        "colab": {
          "base_uri": "https://localhost:8080/"
        },
        "id": "Ay1-AU37o2nW",
        "outputId": "54e2d50a-25ac-455f-f034-f05a392db2fa"
      },
      "execution_count": 32,
      "outputs": [
        {
          "output_type": "stream",
          "name": "stdout",
          "text": [
            "3.241206030150754\n"
          ]
        }
      ]
    },
    {
      "cell_type": "code",
      "source": [
        "median_ED_visits = df['ED_visits'].median()\n",
        "print (median_ED_visits)"
      ],
      "metadata": {
        "colab": {
          "base_uri": "https://localhost:8080/"
        },
        "id": "-ReikDbKtT2d",
        "outputId": "3d4b019d-3971-4333-8eb5-67d1e2d1e095"
      },
      "execution_count": 33,
      "outputs": [
        {
          "output_type": "stream",
          "name": "stdout",
          "text": [
            "2.0\n"
          ]
        }
      ]
    },
    {
      "cell_type": "code",
      "source": [
        "mode_ED_visits = df['ED_visits'].mode()\n",
        "print (mode_ED_visits)"
      ],
      "metadata": {
        "colab": {
          "base_uri": "https://localhost:8080/"
        },
        "id": "13cA8mXrtavv",
        "outputId": "32de4e83-25bd-4535-90e1-2d6da64e4de9"
      },
      "execution_count": 34,
      "outputs": [
        {
          "output_type": "stream",
          "name": "stdout",
          "text": [
            "0    1\n",
            "Name: ED_visits, dtype: int64\n"
          ]
        }
      ]
    },
    {
      "cell_type": "markdown",
      "source": [
        "#### Measures of Spread"
      ],
      "metadata": {
        "id": "F8YO2pH7pcu5"
      }
    },
    {
      "cell_type": "code",
      "source": [
        "# range\n",
        "df_range_ED_visits = df['ED_visits'].max() - df['ED_visits'].min()\n",
        "print (df_range_ED_visits)"
      ],
      "metadata": {
        "colab": {
          "base_uri": "https://localhost:8080/"
        },
        "id": "i4Ll0T4xun3N",
        "outputId": "4f8b1542-5aec-4837-afb8-2bc7d4e49a15"
      },
      "execution_count": 36,
      "outputs": [
        {
          "output_type": "stream",
          "name": "stdout",
          "text": [
            "32\n"
          ]
        }
      ]
    },
    {
      "cell_type": "code",
      "source": [
        "#variance and standard deviation\n",
        "variance_ED_visits = np.var(df['ED_visits'])\n",
        "std_deviation_ED_visits = np.std(df['ED_visits'])\n",
        "print (variance_ED_visits)\n",
        "print (std_deviation_ED_visits)"
      ],
      "metadata": {
        "colab": {
          "base_uri": "https://localhost:8080/"
        },
        "id": "6FFnaJD8v2pt",
        "outputId": "d30b5235-11f0-4132-c293-88952107d735"
      },
      "execution_count": 39,
      "outputs": [
        {
          "output_type": "stream",
          "name": "stdout",
          "text": [
            "14.921719148506352\n",
            "3.8628641120943343\n"
          ]
        }
      ]
    },
    {
      "cell_type": "code",
      "source": [
        "#IQR\n",
        "percentile_25_ED_visits = np.percentile(df['ED_visits'], 25)\n",
        "percentile_75_ED_visits = np.percentile(df['ED_visits'], 75)\n",
        "print(\"25th Percentile ED_visits:\", percentile_25_ED_visits)\n",
        "print(\"75th Percentile ED_visits:\", percentile_75_ED_visits)"
      ],
      "metadata": {
        "colab": {
          "base_uri": "https://localhost:8080/"
        },
        "id": "b9LS2BALv6BI",
        "outputId": "01cfa825-d2b1-4a66-f4ac-28a302181f66"
      },
      "execution_count": 41,
      "outputs": [
        {
          "output_type": "stream",
          "name": "stdout",
          "text": [
            "25th Percentile ED_visits: 1.0\n",
            "75th Percentile ED_visits: 4.0\n"
          ]
        }
      ]
    },
    {
      "cell_type": "markdown",
      "source": [
        "#### Visulization"
      ],
      "metadata": {
        "id": "mLJkk3xBxaea"
      }
    },
    {
      "cell_type": "code",
      "source": [
        "# Histogram\n",
        "plt.figure(figsize=(10, 6))\n",
        "plt.hist(df['ED_visits'], bins=30, density=True, alpha=0.7, color='green',edgecolor='black')\n",
        "plt.title('Normal Distribution')\n",
        "plt.xlabel('ED Visits')\n",
        "plt.ylabel('Frequency')\n",
        "plt.grid(True)\n",
        "plt.show()\n"
      ],
      "metadata": {
        "colab": {
          "base_uri": "https://localhost:8080/",
          "height": 564
        },
        "id": "SfFD9sXGxeZl",
        "outputId": "3dd2307c-2318-4f3f-cb9a-80ea2b931d13"
      },
      "execution_count": 105,
      "outputs": [
        {
          "output_type": "display_data",
          "data": {
            "text/plain": [
              "<Figure size 1000x600 with 1 Axes>"
            ],
            "image/png": "[encoded data removed]"
          },
          "metadata": {}
        }
      ]
    },
    {
      "cell_type": "markdown",
      "source": [
        "### Hospitalizations"
      ],
      "metadata": {
        "id": "gmfcnlbi0RGw"
      }
    },
    {
      "cell_type": "markdown",
      "source": [
        "#### Measures of Central Tendency"
      ],
      "metadata": {
        "id": "tgb07S4o0iww"
      }
    },
    {
      "cell_type": "code",
      "source": [
        "mean_hosp = df['ED_hosp'].mean()\n",
        "print (\"Mean Hospitalizations:\",mean_hosp)\n",
        "\n"
      ],
      "metadata": {
        "colab": {
          "base_uri": "https://localhost:8080/"
        },
        "id": "_vwqWjB70bFw",
        "outputId": "c0e6eed2-9bb3-4652-f727-5a22aa0a8efa"
      },
      "execution_count": 51,
      "outputs": [
        {
          "output_type": "stream",
          "name": "stdout",
          "text": [
            "Mean Hospitalizations: 1.6281407035175879\n"
          ]
        }
      ]
    },
    {
      "cell_type": "code",
      "source": [
        "median_hosp = df['ED_hosp'].median()\n",
        "print (\"Median Hospitalizations:\",median_hosp)"
      ],
      "metadata": {
        "colab": {
          "base_uri": "https://localhost:8080/"
        },
        "id": "G9iiObbg0ytC",
        "outputId": "6ac2518a-6e5a-45a0-e40e-256a92141b6b"
      },
      "execution_count": 62,
      "outputs": [
        {
          "output_type": "stream",
          "name": "stdout",
          "text": [
            "Median Hospitalizations: 1.0\n"
          ]
        }
      ]
    },
    {
      "cell_type": "code",
      "source": [
        "mode_hosp = df['ED_hosp'].mode()\n",
        "print (\"Mode Hospitalizations:\",mode_hosp)"
      ],
      "metadata": {
        "colab": {
          "base_uri": "https://localhost:8080/"
        },
        "id": "LMz73gX01Kbe",
        "outputId": "1117a6c2-a265-4743-f6b2-7fc9b936ade0"
      },
      "execution_count": 63,
      "outputs": [
        {
          "output_type": "stream",
          "name": "stdout",
          "text": [
            "Mode Hospitalizations: 0    0\n",
            "Name: ED_hosp, dtype: int64\n"
          ]
        }
      ]
    },
    {
      "cell_type": "markdown",
      "source": [
        "#### Measures of Spread"
      ],
      "metadata": {
        "id": "B1qbVwTI1Qb_"
      }
    },
    {
      "cell_type": "code",
      "source": [
        "# range\n",
        "df_range_hosp = df['ED_hosp'].max() - df['ED_hosp'].min()\n",
        "print (\"Range:\", df_range_hosp)"
      ],
      "metadata": {
        "colab": {
          "base_uri": "https://localhost:8080/"
        },
        "id": "gUxH28pi1TGI",
        "outputId": "c81b0ba4-7f32-44da-aa02-fc4fd17e95db"
      },
      "execution_count": 54,
      "outputs": [
        {
          "output_type": "stream",
          "name": "stdout",
          "text": [
            "Range: 19\n"
          ]
        }
      ]
    },
    {
      "cell_type": "code",
      "source": [
        "#variance and standard deviation\n",
        "variance_hosp = np.var(df['ED_hosp'])\n",
        "std_deviation_hosp = np.std(df['ED_hosp'])\n",
        "print (\"Variance Hospitalizations:\",variance_hosp)\n",
        "print (\"Standard Deviation of Hospitalizations:\",std_deviation_hosp)"
      ],
      "metadata": {
        "colab": {
          "base_uri": "https://localhost:8080/"
        },
        "id": "552IwXD_1dYA",
        "outputId": "d1560f95-ce01-4969-d67b-6cd9c7ca641a"
      },
      "execution_count": 55,
      "outputs": [
        {
          "output_type": "stream",
          "name": "stdout",
          "text": [
            "Variance Hospitalizations: 6.339107598292973\n",
            "Standard Deviation of Hospitalizations: 2.5177584471694208\n"
          ]
        }
      ]
    },
    {
      "cell_type": "code",
      "source": [
        "#IQR\n",
        "percentile_25_hosp = np.percentile(df['ED_hosp'], 25)\n",
        "percentile_75_hosp = np.percentile(df['ED_hosp'], 75)\n",
        "print(\"25th Percentile Hospitalizations:\", percentile_25_hosp)\n",
        "print(\"75th Percentile Hospitalizations:\", percentile_75_hosp)"
      ],
      "metadata": {
        "colab": {
          "base_uri": "https://localhost:8080/"
        },
        "id": "ZKhtwbVA1niO",
        "outputId": "29f023eb-a001-4c09-ecdd-6e327bba1269"
      },
      "execution_count": 50,
      "outputs": [
        {
          "output_type": "stream",
          "name": "stdout",
          "text": [
            "25th Percentile Hospitalizations: 0.0\n",
            "75th Percentile Hospitalizations: 2.0\n"
          ]
        }
      ]
    },
    {
      "cell_type": "markdown",
      "source": [
        "#### Visualization"
      ],
      "metadata": {
        "id": "yeqVhQty2ydw"
      }
    },
    {
      "cell_type": "code",
      "source": [
        "# Histogram\n",
        "plt.figure(figsize=(10, 6))\n",
        "plt.hist(df['ED_hosp'], bins=30, density=True, alpha=0.7, color='green',edgecolor='black')\n",
        "plt.title('Normal Distribution')\n",
        "plt.xlabel('ED Hospitalizations')\n",
        "plt.ylabel('Frequency')\n",
        "plt.grid(True)\n",
        "plt.show()"
      ],
      "metadata": {
        "colab": {
          "base_uri": "https://localhost:8080/",
          "height": 564
        },
        "id": "nlKf5PN320N0",
        "outputId": "c83e94f8-d461-4006-9f3e-d983df06fe88"
      },
      "execution_count": 102,
      "outputs": [
        {
          "output_type": "display_data",
          "data": {
            "text/plain": [
              "<Figure size 1000x600 with 1 Axes>"
            ],
            "image/png": "[encoded data removed]"
          },
          "metadata": {}
        }
      ]
    },
    {
      "cell_type": "markdown",
      "source": [
        "### Urgent Care Visits"
      ],
      "metadata": {
        "id": "DR4-tpEy3RZc"
      }
    },
    {
      "cell_type": "code",
      "source": [
        "# Measures of Central Tendency\n",
        "mean_uc = df['UC_visits'].mean()\n",
        "print (\"Mean Urgent Care Visits:\",mean_uc)\n",
        "\n",
        "median_uc = df['UC_visits'].median()\n",
        "print (\"Median Urgent Care Visits:\",median_uc)\n",
        "\n",
        "mode_uc = df['UC_visits'].mode()\n",
        "print (\"Mode Urgent Care Visits:\",mode_uc)"
      ],
      "metadata": {
        "colab": {
          "base_uri": "https://localhost:8080/"
        },
        "id": "u2ac5MVR3thl",
        "outputId": "05dd81ae-9262-46ec-87df-a254430ed5c3"
      },
      "execution_count": 66,
      "outputs": [
        {
          "output_type": "stream",
          "name": "stdout",
          "text": [
            "Mean Urgent Care Visits: 0.6457286432160804\n",
            "Median Urgent Care Visits: 0.0\n",
            "Mode Urgent Care Visits: 0    0\n",
            "Name: UC_visits, dtype: int64\n"
          ]
        }
      ]
    },
    {
      "cell_type": "code",
      "source": [
        "# Measures of Spread\n",
        "\n",
        "## range\n",
        "df_range_uc = df['UC_visits'].max() - df['UC_visits'].min()\n",
        "print (\"Range:\", df_range_uc)\n",
        "\n",
        "#variance and standard deviation\n",
        "variance_uc = np.var(df['UC_visits'])\n",
        "std_deviation_uc = np.std(df['UC_visits'])\n",
        "print (\"Variance Urgent Care Visits:\",variance_uc)\n",
        "print (\"Standard Deviation of Urgent Care Visits:\",std_deviation_uc)\n",
        "\n",
        "#IQR\n",
        "percentile_25_uc = np.percentile(df['UC_visits'], 25)\n",
        "percentile_75_uc = np.percentile(df['UC_visits'], 75)\n",
        "print(\"25th Percentile Urgent Care Visits:\", percentile_25_uc)\n",
        "print(\"75th Percentile Urgent Care Visits:\", percentile_75_uc)\n"
      ],
      "metadata": {
        "colab": {
          "base_uri": "https://localhost:8080/"
        },
        "id": "n0xk5ANq5Drg",
        "outputId": "8f9422f9-330e-4c9b-96d6-1dda432ff5ab"
      },
      "execution_count": 67,
      "outputs": [
        {
          "output_type": "stream",
          "name": "stdout",
          "text": [
            "Range: 6\n",
            "Variance Urgent Care Visits: 0.9925822580237873\n",
            "Standard Deviation of Urgent Care Visits: 0.9962842255219077\n",
            "25th Percentile Urgent Care Visits: 0.0\n",
            "75th Percentile Urgent Care Visits: 1.0\n"
          ]
        }
      ]
    },
    {
      "cell_type": "code",
      "source": [
        "# Histogram\n",
        "plt.hist(df['UC_visits'], bins=30, density=True, alpha=0.7, color='green',edgecolor='black')\n",
        "plt.title('Normal Distribution')\n",
        "plt.xlabel('Urgent Care Visits')\n",
        "plt.ylabel('Frequency')\n",
        "plt.grid(True)\n",
        "plt.show()"
      ],
      "metadata": {
        "colab": {
          "base_uri": "https://localhost:8080/",
          "height": 472
        },
        "id": "kwwGCpy0DPtI",
        "outputId": "4bebecd3-5d5e-4bf2-f339-0c2a2de62613"
      },
      "execution_count": 107,
      "outputs": [
        {
          "output_type": "display_data",
          "data": {
            "text/plain": [
              "<Figure size 640x480 with 1 Axes>"
            ],
            "image/png": "[encoded data removed]"
          },
          "metadata": {}
        }
      ]
    },
    {
      "cell_type": "markdown",
      "source": [
        "### Asthma Controller Medication Dispensing Events"
      ],
      "metadata": {
        "id": "v3OuJVyX3UZb"
      }
    },
    {
      "cell_type": "code",
      "source": [
        "# Measures of Central Tendency\n",
        "mean_au = df['Asthma_use'].mean()\n",
        "print (\"Mean Asthma Controller Medication Dispensing Events:\",mean_au)\n",
        "\n",
        "median_au = df['Asthma_use'].median()\n",
        "print (\"Median Asthma Controller Medication Dispensing Events:\",median_au)\n",
        "\n",
        "mode_au = df['Asthma_use'].mode()\n",
        "print (\"Mode Asthma Controller Medication Dispensing Events:\",mode_au)"
      ],
      "metadata": {
        "colab": {
          "base_uri": "https://localhost:8080/"
        },
        "id": "zYjbPv6x3rvf",
        "outputId": "395f9853-2de8-40a3-f199-603f312330dd"
      },
      "execution_count": 77,
      "outputs": [
        {
          "output_type": "stream",
          "name": "stdout",
          "text": [
            "Mean Asthma Controller Medication Dispensing Events: 38.21105527638191\n",
            "Median Asthma Controller Medication Dispensing Events: 35.0\n",
            "Mode Asthma Controller Medication Dispensing Events: 0    18\n",
            "1    41\n",
            "Name: Asthma_use, dtype: int64\n"
          ]
        }
      ]
    },
    {
      "cell_type": "code",
      "source": [
        "# Measures of Spread\n",
        "\n",
        "## Range\n",
        "df_range_au = df['Asthma_use'].max() - df['Asthma_use'].min()\n",
        "print (\"Range:\", df_range_au)\n",
        "\n",
        "## Variance and standard deviation\n",
        "variance_au = np.var(df['Asthma_use'])\n",
        "std_deviation_au = np.std(df['Asthma_use'])\n",
        "print (\"Variance Asthma Controller Medication Dispensing Events:\",variance_au)\n",
        "print (\"Standard Deviation of Asthma Controller Medication Dispensing Events:\",std_deviation_uc)\n",
        "\n",
        "## IQR\n",
        "percentile_25_au = np.percentile(df['Asthma_use'], 25)\n",
        "percentile_75_au = np.percentile(df['Asthma_use'], 75)\n",
        "print(\"25th Percentile Asthma Controller Medication Dispensing Events:\", percentile_25_au)\n",
        "print(\"75th Percentile Asthma Controller Medication Dispensing Events:\", percentile_75_au)"
      ],
      "metadata": {
        "colab": {
          "base_uri": "https://localhost:8080/"
        },
        "id": "RxKWINHT6Ecd",
        "outputId": "b5db1a86-da7c-49c3-e825-fe36cb259ace"
      },
      "execution_count": 78,
      "outputs": [
        {
          "output_type": "stream",
          "name": "stdout",
          "text": [
            "Range: 240\n",
            "Variance Asthma Controller Medication Dispensing Events: 710.6840988863918\n",
            "Standard Deviation of Asthma Controller Medication Dispensing Events: 0.9962842255219077\n",
            "25th Percentile Asthma Controller Medication Dispensing Events: 20.0\n",
            "75th Percentile Asthma Controller Medication Dispensing Events: 53.0\n"
          ]
        }
      ]
    },
    {
      "cell_type": "code",
      "source": [
        "# Histogram\n",
        "plt.figure(figsize=(10, 6))  # Optional: Adjust the figure size\n",
        "plt.hist(df['Asthma_use'], bins=30, density=True, alpha=0.7, color='green',edgecolor='black')\n",
        "plt.title('Normal Distribution')\n",
        "plt.xlabel('Asthma Controller Medication Dispensing Events')\n",
        "plt.ylabel('Frequency')\n",
        "plt.grid(True)\n",
        "plt.show()"
      ],
      "metadata": {
        "colab": {
          "base_uri": "https://localhost:8080/",
          "height": 564
        },
        "id": "abV9Pur56Gww",
        "outputId": "f58be8cf-f7d7-461b-f94a-c7f3f10f279a"
      },
      "execution_count": 108,
      "outputs": [
        {
          "output_type": "display_data",
          "data": {
            "text/plain": [
              "<Figure size 1000x600 with 1 Axes>"
            ],
            "image/png": "[encoded data removed]"
          },
          "metadata": {}
        }
      ]
    },
    {
      "cell_type": "markdown",
      "source": [
        "### Total Members"
      ],
      "metadata": {
        "id": "jhWkxkOU3vwf"
      }
    },
    {
      "cell_type": "code",
      "source": [
        "# Measures of Central Tendency\n",
        "mean_tm = df['Total_members'].mean()\n",
        "print (\"Mean Total Members:\",mean_tm)\n",
        "\n",
        "median_tm = df['Total_members'].median()\n",
        "print (\"Median Total Members:\",median_tm)\n",
        "\n",
        "mode_tm = df['Total_members'].mode()\n",
        "print (\"Mode Total Members:\",mode_tm)"
      ],
      "metadata": {
        "colab": {
          "base_uri": "https://localhost:8080/"
        },
        "id": "EgG7tx999PL9",
        "outputId": "25679c37-d3ef-4056-a9e4-fc7f9cc183bd"
      },
      "execution_count": 109,
      "outputs": [
        {
          "output_type": "stream",
          "name": "stdout",
          "text": [
            "Mean Total Members: 466.1608040201005\n",
            "Median Total Members: 412.0\n",
            "Mode Total Members: 0    191\n",
            "Name: Total_members, dtype: int64\n"
          ]
        }
      ]
    },
    {
      "cell_type": "code",
      "source": [
        "# Measures of Spread\n",
        "\n",
        "## Range\n",
        "df_range_tm = df['Total_members'].max() - df['Total_members'].min()\n",
        "print (\"Range:\", df_range_tm)\n",
        "\n",
        "## Variance and standard deviation\n",
        "variance_tm = np.var(df['Total_members'])\n",
        "std_deviation_tm = np.std(df['Total_members'])\n",
        "print (\"Variance Total Members:\",variance_tm)\n",
        "print (\"Standard Deviation Total Members :\",std_deviation_tm)\n",
        "\n",
        "## IQR\n",
        "percentile_25_tm = np.percentile(df['Total_members'], 25)\n",
        "percentile_75_tm = np.percentile(df['Total_members'], 75)\n",
        "print(\"25th Percentile Total Members:\", percentile_25_tm)\n",
        "print(\"75th Percentile Total Members:\", percentile_75_tm)"
      ],
      "metadata": {
        "colab": {
          "base_uri": "https://localhost:8080/"
        },
        "id": "V_vu3Em49VX2",
        "outputId": "c945bcd7-48e6-435b-f415-709c4aaa473b"
      },
      "execution_count": 82,
      "outputs": [
        {
          "output_type": "stream",
          "name": "stdout",
          "text": [
            "Range: 2397\n",
            "Variance Total Members: 87227.14499633847\n",
            "Standard Deviation Total Members : 295.34241990668806\n",
            "25th Percentile Total Members: 249.5\n",
            "75th Percentile Total Members: 646.75\n"
          ]
        }
      ]
    },
    {
      "cell_type": "code",
      "source": [
        "# Histogram\n",
        "plt.hist(df['Total_members'], bins=30, density=True, alpha=0.7, color='green',edgecolor='black')\n",
        "plt.title('Normal Distribution')\n",
        "plt.xlabel('Total Members')\n",
        "plt.ylabel('Frequency')\n",
        "plt.grid(True)\n",
        "plt.show()"
      ],
      "metadata": {
        "colab": {
          "base_uri": "https://localhost:8080/",
          "height": 472
        },
        "id": "fdcL4OejCAjd",
        "outputId": "50ca2e75-8d46-4515-b6f8-c461dd08a3b0"
      },
      "execution_count": 110,
      "outputs": [
        {
          "output_type": "display_data",
          "data": {
            "text/plain": [
              "<Figure size 640x480 with 1 Axes>"
            ],
            "image/png": "[encoded data removed]"
          },
          "metadata": {}
        }
      ]
    },
    {
      "cell_type": "markdown",
      "source": [
        "## **Bivariate Analysis**"
      ],
      "metadata": {
        "id": "HgrTGf46-460"
      }
    },
    {
      "cell_type": "markdown",
      "source": [
        "### Scatter plot representing the relationship between Emergency Department Vists and Hospitalizations"
      ],
      "metadata": {
        "id": "k-Khog5T_7B1"
      }
    },
    {
      "cell_type": "code",
      "source": [
        "plt.figure(figsize=(8, 6))\n",
        "plt.scatter(df['ED_visits'], df['ED_hosp'], alpha=0.5)\n",
        "plt.title('Scatter Plot of Emergency Department Visits vs. Hospitalizations')\n",
        "plt.xlabel('ED_visits')\n",
        "plt.ylabel('ED_hosp')\n",
        "plt.grid(True)\n",
        "plt.show()"
      ],
      "metadata": {
        "colab": {
          "base_uri": "https://localhost:8080/",
          "height": 564
        },
        "id": "vd6CAHfi_BhO",
        "outputId": "34012abd-4c39-4a0f-9e8b-7c5d15f582b0"
      },
      "execution_count": 111,
      "outputs": [
        {
          "output_type": "display_data",
          "data": {
            "text/plain": [
              "<Figure size 800x600 with 1 Axes>"
            ],
            "image/png": "[encoded data removed]"
          },
          "metadata": {}
        }
      ]
    },
    {
      "cell_type": "markdown",
      "source": [
        "#### Compute correlation coefficients for numerical variables and document any strong correlations observed.\n"
      ],
      "metadata": {
        "id": "NmSPGEjWE8X2"
      }
    },
    {
      "cell_type": "code",
      "source": [
        "correlation_matrix = df.corr()\n",
        "print(correlation_matrix)"
      ],
      "metadata": {
        "colab": {
          "base_uri": "https://localhost:8080/"
        },
        "id": "4CqfCNPkE7rI",
        "outputId": "13fe7ef9-9632-4e31-c3fa-d84b00747a99"
      },
      "execution_count": 116,
      "outputs": [
        {
          "output_type": "stream",
          "name": "stdout",
          "text": [
            "               Census_tract  ED_visits   ED_hosp  UC_visits  Asthma_use  \\\n",
            "Census_tract       1.000000  -0.090659 -0.077162   0.141193    0.049460   \n",
            "ED_visits         -0.090659   1.000000  0.880865   0.306201    0.565852   \n",
            "ED_hosp           -0.077162   0.880865  1.000000   0.272018    0.441916   \n",
            "UC_visits          0.141193   0.306201  0.272018   1.000000    0.341865   \n",
            "Asthma_use         0.049460   0.565852  0.441916   0.341865    1.000000   \n",
            "Total_members      0.078799   0.364422  0.262865   0.275321    0.919793   \n",
            "\n",
            "               Total_members  \n",
            "Census_tract        0.078799  \n",
            "ED_visits           0.364422  \n",
            "ED_hosp             0.262865  \n",
            "UC_visits           0.275321  \n",
            "Asthma_use          0.919793  \n",
            "Total_members       1.000000  \n"
          ]
        }
      ]
    }
  ]
}